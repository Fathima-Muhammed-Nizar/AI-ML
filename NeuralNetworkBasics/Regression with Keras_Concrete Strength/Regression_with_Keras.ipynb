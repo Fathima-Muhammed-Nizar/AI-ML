{
 "cells": [
  {
   "cell_type": "markdown",
   "metadata": {},
   "source": [
    "<a href=\"https://cognitiveclass.ai/?utm_medium=Exinfluencer&utm_source=Exinfluencer&utm_content=000026UJ&utm_term=10006555&utm_id=NA-SkillsNetwork-Channel-SkillsNetworkCoursesIBMDeveloperSkillsNetworkDL0101ENSkillsNetwork945-2022-01-01\"><img src=\"https://cf-courses-data.s3.us.cloud-object-storage.appdomain.cloud/IBMDeveloperSkillsNetwork-DL0101EN-SkillsNetwork/images/IDSN-logo.png\" width=\"400\"> </a>\n",
    "\n",
    "<h1 align=center><font size = 5>Regression Models with Keras</font></h1>\n"
   ]
  },
  {
   "cell_type": "markdown",
   "metadata": {},
   "source": [
    "## Introduction\n"
   ]
  },
  {
   "cell_type": "markdown",
   "metadata": {},
   "source": [
    "As we discussed in the videos, despite the popularity of more powerful libraries such as PyToch and TensorFlow, they are not easy to use and have a steep learning curve. So, for people who are just starting to learn deep learning, there is no better library to use other than the Keras library. \n",
    "\n",
    "Keras is a high-level API for building deep learning models. It has gained favor for its ease of use and syntactic simplicity facilitating fast development. As you will see in this lab and the other labs in this course, building a very complex deep learning network can be achieved with Keras with only few lines of code. You will appreciate Keras even more, once you learn how to build deep models using PyTorch and TensorFlow in the other courses.\n",
    "\n",
    "So, in this lab, you will learn how to use the Keras library to build a regression model.\n"
   ]
  },
  {
   "cell_type": "markdown",
   "metadata": {},
   "source": [
    "<h2>Regression Models with Keras</h2>\n",
    "\n",
    "<h3>Objective for this Notebook<h3>    \n",
    "<h5> 1. How to use the Keras library to build a regression model.</h5>\n",
    "<h5> 2. Download and Clean dataset </h5>\n",
    "<h5> 3. Build a Neural Network </h5>\n",
    "<h5> 4. Train and Test the Network. </h5>     \n",
    "\n"
   ]
  },
  {
   "cell_type": "markdown",
   "metadata": {},
   "source": [
    "## Table of Contents\n",
    "\n",
    "<div class=\"alert alert-block alert-info\" style=\"margin-top: 20px\">\n",
    "\n",
    "<font size = 3>\n",
    "    \n",
    "1. <a href=\"#item31\">Download and Clean Dataset</a>  \n",
    "2. <a href=\"#item32\">Import Keras</a>  \n",
    "3. <a href=\"#item33\">Build a Neural Network</a>  \n",
    "4. <a href=\"#item34\">Train and Test the Network</a>  \n",
    "\n",
    "</font>\n",
    "</div>\n"
   ]
  },
  {
   "cell_type": "markdown",
   "metadata": {},
   "source": [
    "<a id=\"item31\"></a>\n"
   ]
  },
  {
   "cell_type": "markdown",
   "metadata": {},
   "source": [
    "## Download and Clean Dataset\n"
   ]
  },
  {
   "cell_type": "markdown",
   "metadata": {},
   "source": [
    "Let's start by importing the <em>pandas</em> and the Numpy libraries.\n"
   ]
  },
  {
   "cell_type": "code",
   "execution_count": null,
   "metadata": {},
   "outputs": [],
   "source": [
    "# All Libraries required for this lab are listed below. The libraries pre-installed on Skills Network Labs are commented. \n",
    "# If you run this notebook on a different environment, e.g. your desktop, you may need to uncomment and install certain libraries.\n",
    "\n",
    "#!pip install numpy==1.21.4\n",
    "#!pip install pandas==1.3.4\n",
    "#!pip install keras==2.1.6"
   ]
  },
  {
   "cell_type": "code",
   "execution_count": 1,
   "metadata": {
    "tags": []
   },
   "outputs": [],
   "source": [
    "import pandas as pd\n",
    "import numpy as np"
   ]
  },
  {
   "cell_type": "markdown",
   "metadata": {},
   "source": [
    "We will be playing around with the same dataset that we used in the videos.\n",
    "\n",
    "<strong>The dataset is about the compressive strength of different samples of concrete based on the volumes of the different ingredients that were used to make them. Ingredients include:</strong>\n",
    "\n",
    "<strong>1. Cement</strong>\n",
    "\n",
    "<strong>2. Blast Furnace Slag</strong>\n",
    "\n",
    "<strong>3. Fly Ash</strong>\n",
    "\n",
    "<strong>4. Water</strong>\n",
    "\n",
    "<strong>5. Superplasticizer</strong>\n",
    "\n",
    "<strong>6. Coarse Aggregate</strong>\n",
    "\n",
    "<strong>7. Fine Aggregate</strong>\n"
   ]
  },
  {
   "cell_type": "markdown",
   "metadata": {},
   "source": [
    "Let's download the data and read it into a <em>pandas</em> dataframe.\n"
   ]
  },
  {
   "cell_type": "code",
   "execution_count": 2,
   "metadata": {
    "tags": []
   },
   "outputs": [
    {
     "data": {
      "text/html": [
       "<div>\n",
       "<style scoped>\n",
       "    .dataframe tbody tr th:only-of-type {\n",
       "        vertical-align: middle;\n",
       "    }\n",
       "\n",
       "    .dataframe tbody tr th {\n",
       "        vertical-align: top;\n",
       "    }\n",
       "\n",
       "    .dataframe thead th {\n",
       "        text-align: right;\n",
       "    }\n",
       "</style>\n",
       "<table border=\"1\" class=\"dataframe\">\n",
       "  <thead>\n",
       "    <tr style=\"text-align: right;\">\n",
       "      <th></th>\n",
       "      <th>Cement</th>\n",
       "      <th>Blast Furnace Slag</th>\n",
       "      <th>Fly Ash</th>\n",
       "      <th>Water</th>\n",
       "      <th>Superplasticizer</th>\n",
       "      <th>Coarse Aggregate</th>\n",
       "      <th>Fine Aggregate</th>\n",
       "      <th>Age</th>\n",
       "      <th>Strength</th>\n",
       "    </tr>\n",
       "  </thead>\n",
       "  <tbody>\n",
       "    <tr>\n",
       "      <th>0</th>\n",
       "      <td>540.0</td>\n",
       "      <td>0.0</td>\n",
       "      <td>0.0</td>\n",
       "      <td>162.0</td>\n",
       "      <td>2.5</td>\n",
       "      <td>1040.0</td>\n",
       "      <td>676.0</td>\n",
       "      <td>28</td>\n",
       "      <td>79.99</td>\n",
       "    </tr>\n",
       "    <tr>\n",
       "      <th>1</th>\n",
       "      <td>540.0</td>\n",
       "      <td>0.0</td>\n",
       "      <td>0.0</td>\n",
       "      <td>162.0</td>\n",
       "      <td>2.5</td>\n",
       "      <td>1055.0</td>\n",
       "      <td>676.0</td>\n",
       "      <td>28</td>\n",
       "      <td>61.89</td>\n",
       "    </tr>\n",
       "    <tr>\n",
       "      <th>2</th>\n",
       "      <td>332.5</td>\n",
       "      <td>142.5</td>\n",
       "      <td>0.0</td>\n",
       "      <td>228.0</td>\n",
       "      <td>0.0</td>\n",
       "      <td>932.0</td>\n",
       "      <td>594.0</td>\n",
       "      <td>270</td>\n",
       "      <td>40.27</td>\n",
       "    </tr>\n",
       "    <tr>\n",
       "      <th>3</th>\n",
       "      <td>332.5</td>\n",
       "      <td>142.5</td>\n",
       "      <td>0.0</td>\n",
       "      <td>228.0</td>\n",
       "      <td>0.0</td>\n",
       "      <td>932.0</td>\n",
       "      <td>594.0</td>\n",
       "      <td>365</td>\n",
       "      <td>41.05</td>\n",
       "    </tr>\n",
       "    <tr>\n",
       "      <th>4</th>\n",
       "      <td>198.6</td>\n",
       "      <td>132.4</td>\n",
       "      <td>0.0</td>\n",
       "      <td>192.0</td>\n",
       "      <td>0.0</td>\n",
       "      <td>978.4</td>\n",
       "      <td>825.5</td>\n",
       "      <td>360</td>\n",
       "      <td>44.30</td>\n",
       "    </tr>\n",
       "  </tbody>\n",
       "</table>\n",
       "</div>"
      ],
      "text/plain": [
       "   Cement  Blast Furnace Slag  Fly Ash  Water  Superplasticizer  \\\n",
       "0   540.0                 0.0      0.0  162.0               2.5   \n",
       "1   540.0                 0.0      0.0  162.0               2.5   \n",
       "2   332.5               142.5      0.0  228.0               0.0   \n",
       "3   332.5               142.5      0.0  228.0               0.0   \n",
       "4   198.6               132.4      0.0  192.0               0.0   \n",
       "\n",
       "   Coarse Aggregate  Fine Aggregate  Age  Strength  \n",
       "0            1040.0           676.0   28     79.99  \n",
       "1            1055.0           676.0   28     61.89  \n",
       "2             932.0           594.0  270     40.27  \n",
       "3             932.0           594.0  365     41.05  \n",
       "4             978.4           825.5  360     44.30  "
      ]
     },
     "execution_count": 2,
     "metadata": {},
     "output_type": "execute_result"
    }
   ],
   "source": [
    "concrete_data = pd.read_csv('https://s3-api.us-geo.objectstorage.softlayer.net/cf-courses-data/CognitiveClass/DL0101EN/labs/data/concrete_data.csv')\n",
    "concrete_data.head()"
   ]
  },
  {
   "cell_type": "markdown",
   "metadata": {},
   "source": [
    "So the first concrete sample has 540 cubic meter of cement, 0 cubic meter of blast furnace slag, 0 cubic meter of fly ash, 162 cubic meter of water, 2.5 cubic meter of superplaticizer, 1040 cubic meter of coarse aggregate, 676 cubic meter of fine aggregate. Such a concrete mix which is 28 days old, has a compressive strength of 79.99 MPa. \n"
   ]
  },
  {
   "cell_type": "markdown",
   "metadata": {},
   "source": [
    "#### Let's check how many data points we have.\n"
   ]
  },
  {
   "cell_type": "code",
   "execution_count": 3,
   "metadata": {
    "tags": []
   },
   "outputs": [
    {
     "data": {
      "text/plain": [
       "(1030, 9)"
      ]
     },
     "execution_count": 3,
     "metadata": {},
     "output_type": "execute_result"
    }
   ],
   "source": [
    "concrete_data.shape"
   ]
  },
  {
   "cell_type": "markdown",
   "metadata": {},
   "source": [
    "So, there are approximately 1000 samples to train our model on. Because of the few samples, we have to be careful not to overfit the training data.\n"
   ]
  },
  {
   "cell_type": "markdown",
   "metadata": {},
   "source": [
    "Let's check the dataset for any missing values.\n"
   ]
  },
  {
   "cell_type": "code",
   "execution_count": 4,
   "metadata": {
    "tags": []
   },
   "outputs": [
    {
     "data": {
      "text/html": [
       "<div>\n",
       "<style scoped>\n",
       "    .dataframe tbody tr th:only-of-type {\n",
       "        vertical-align: middle;\n",
       "    }\n",
       "\n",
       "    .dataframe tbody tr th {\n",
       "        vertical-align: top;\n",
       "    }\n",
       "\n",
       "    .dataframe thead th {\n",
       "        text-align: right;\n",
       "    }\n",
       "</style>\n",
       "<table border=\"1\" class=\"dataframe\">\n",
       "  <thead>\n",
       "    <tr style=\"text-align: right;\">\n",
       "      <th></th>\n",
       "      <th>Cement</th>\n",
       "      <th>Blast Furnace Slag</th>\n",
       "      <th>Fly Ash</th>\n",
       "      <th>Water</th>\n",
       "      <th>Superplasticizer</th>\n",
       "      <th>Coarse Aggregate</th>\n",
       "      <th>Fine Aggregate</th>\n",
       "      <th>Age</th>\n",
       "      <th>Strength</th>\n",
       "    </tr>\n",
       "  </thead>\n",
       "  <tbody>\n",
       "    <tr>\n",
       "      <th>count</th>\n",
       "      <td>1030.000000</td>\n",
       "      <td>1030.000000</td>\n",
       "      <td>1030.000000</td>\n",
       "      <td>1030.000000</td>\n",
       "      <td>1030.000000</td>\n",
       "      <td>1030.000000</td>\n",
       "      <td>1030.000000</td>\n",
       "      <td>1030.000000</td>\n",
       "      <td>1030.000000</td>\n",
       "    </tr>\n",
       "    <tr>\n",
       "      <th>mean</th>\n",
       "      <td>281.167864</td>\n",
       "      <td>73.895825</td>\n",
       "      <td>54.188350</td>\n",
       "      <td>181.567282</td>\n",
       "      <td>6.204660</td>\n",
       "      <td>972.918932</td>\n",
       "      <td>773.580485</td>\n",
       "      <td>45.662136</td>\n",
       "      <td>35.817961</td>\n",
       "    </tr>\n",
       "    <tr>\n",
       "      <th>std</th>\n",
       "      <td>104.506364</td>\n",
       "      <td>86.279342</td>\n",
       "      <td>63.997004</td>\n",
       "      <td>21.354219</td>\n",
       "      <td>5.973841</td>\n",
       "      <td>77.753954</td>\n",
       "      <td>80.175980</td>\n",
       "      <td>63.169912</td>\n",
       "      <td>16.705742</td>\n",
       "    </tr>\n",
       "    <tr>\n",
       "      <th>min</th>\n",
       "      <td>102.000000</td>\n",
       "      <td>0.000000</td>\n",
       "      <td>0.000000</td>\n",
       "      <td>121.800000</td>\n",
       "      <td>0.000000</td>\n",
       "      <td>801.000000</td>\n",
       "      <td>594.000000</td>\n",
       "      <td>1.000000</td>\n",
       "      <td>2.330000</td>\n",
       "    </tr>\n",
       "    <tr>\n",
       "      <th>25%</th>\n",
       "      <td>192.375000</td>\n",
       "      <td>0.000000</td>\n",
       "      <td>0.000000</td>\n",
       "      <td>164.900000</td>\n",
       "      <td>0.000000</td>\n",
       "      <td>932.000000</td>\n",
       "      <td>730.950000</td>\n",
       "      <td>7.000000</td>\n",
       "      <td>23.710000</td>\n",
       "    </tr>\n",
       "    <tr>\n",
       "      <th>50%</th>\n",
       "      <td>272.900000</td>\n",
       "      <td>22.000000</td>\n",
       "      <td>0.000000</td>\n",
       "      <td>185.000000</td>\n",
       "      <td>6.400000</td>\n",
       "      <td>968.000000</td>\n",
       "      <td>779.500000</td>\n",
       "      <td>28.000000</td>\n",
       "      <td>34.445000</td>\n",
       "    </tr>\n",
       "    <tr>\n",
       "      <th>75%</th>\n",
       "      <td>350.000000</td>\n",
       "      <td>142.950000</td>\n",
       "      <td>118.300000</td>\n",
       "      <td>192.000000</td>\n",
       "      <td>10.200000</td>\n",
       "      <td>1029.400000</td>\n",
       "      <td>824.000000</td>\n",
       "      <td>56.000000</td>\n",
       "      <td>46.135000</td>\n",
       "    </tr>\n",
       "    <tr>\n",
       "      <th>max</th>\n",
       "      <td>540.000000</td>\n",
       "      <td>359.400000</td>\n",
       "      <td>200.100000</td>\n",
       "      <td>247.000000</td>\n",
       "      <td>32.200000</td>\n",
       "      <td>1145.000000</td>\n",
       "      <td>992.600000</td>\n",
       "      <td>365.000000</td>\n",
       "      <td>82.600000</td>\n",
       "    </tr>\n",
       "  </tbody>\n",
       "</table>\n",
       "</div>"
      ],
      "text/plain": [
       "            Cement  Blast Furnace Slag      Fly Ash        Water  \\\n",
       "count  1030.000000         1030.000000  1030.000000  1030.000000   \n",
       "mean    281.167864           73.895825    54.188350   181.567282   \n",
       "std     104.506364           86.279342    63.997004    21.354219   \n",
       "min     102.000000            0.000000     0.000000   121.800000   \n",
       "25%     192.375000            0.000000     0.000000   164.900000   \n",
       "50%     272.900000           22.000000     0.000000   185.000000   \n",
       "75%     350.000000          142.950000   118.300000   192.000000   \n",
       "max     540.000000          359.400000   200.100000   247.000000   \n",
       "\n",
       "       Superplasticizer  Coarse Aggregate  Fine Aggregate          Age  \\\n",
       "count       1030.000000       1030.000000     1030.000000  1030.000000   \n",
       "mean           6.204660        972.918932      773.580485    45.662136   \n",
       "std            5.973841         77.753954       80.175980    63.169912   \n",
       "min            0.000000        801.000000      594.000000     1.000000   \n",
       "25%            0.000000        932.000000      730.950000     7.000000   \n",
       "50%            6.400000        968.000000      779.500000    28.000000   \n",
       "75%           10.200000       1029.400000      824.000000    56.000000   \n",
       "max           32.200000       1145.000000      992.600000   365.000000   \n",
       "\n",
       "          Strength  \n",
       "count  1030.000000  \n",
       "mean     35.817961  \n",
       "std      16.705742  \n",
       "min       2.330000  \n",
       "25%      23.710000  \n",
       "50%      34.445000  \n",
       "75%      46.135000  \n",
       "max      82.600000  "
      ]
     },
     "execution_count": 4,
     "metadata": {},
     "output_type": "execute_result"
    }
   ],
   "source": [
    "concrete_data.describe()"
   ]
  },
  {
   "cell_type": "code",
   "execution_count": 5,
   "metadata": {
    "tags": []
   },
   "outputs": [
    {
     "data": {
      "text/plain": [
       "Cement                0\n",
       "Blast Furnace Slag    0\n",
       "Fly Ash               0\n",
       "Water                 0\n",
       "Superplasticizer      0\n",
       "Coarse Aggregate      0\n",
       "Fine Aggregate        0\n",
       "Age                   0\n",
       "Strength              0\n",
       "dtype: int64"
      ]
     },
     "execution_count": 5,
     "metadata": {},
     "output_type": "execute_result"
    }
   ],
   "source": [
    "concrete_data.isnull().sum()"
   ]
  },
  {
   "cell_type": "markdown",
   "metadata": {},
   "source": [
    "The data looks very clean and is ready to be used to build our model.\n"
   ]
  },
  {
   "cell_type": "markdown",
   "metadata": {},
   "source": [
    "#### Split data into predictors and target\n"
   ]
  },
  {
   "cell_type": "markdown",
   "metadata": {},
   "source": [
    "The target variable in this problem is the concrete sample strength. Therefore, our predictors will be all the other columns.\n"
   ]
  },
  {
   "cell_type": "code",
   "execution_count": 16,
   "metadata": {
    "tags": []
   },
   "outputs": [],
   "source": [
    "concrete_data_columns = concrete_data.columns\n",
    "\n",
    "predictors = concrete_data[concrete_data_columns[concrete_data_columns != 'Strength']] # all columns except Strength\n",
    "target = concrete_data['Strength'] # Strength column"
   ]
  },
  {
   "cell_type": "markdown",
   "metadata": {},
   "source": [
    "<a id=\"item2\"></a>\n"
   ]
  },
  {
   "cell_type": "markdown",
   "metadata": {},
   "source": [
    "Let's do a quick sanity check of the predictors and the target dataframes.\n"
   ]
  },
  {
   "cell_type": "code",
   "execution_count": 7,
   "metadata": {
    "tags": []
   },
   "outputs": [
    {
     "data": {
      "text/html": [
       "<div>\n",
       "<style scoped>\n",
       "    .dataframe tbody tr th:only-of-type {\n",
       "        vertical-align: middle;\n",
       "    }\n",
       "\n",
       "    .dataframe tbody tr th {\n",
       "        vertical-align: top;\n",
       "    }\n",
       "\n",
       "    .dataframe thead th {\n",
       "        text-align: right;\n",
       "    }\n",
       "</style>\n",
       "<table border=\"1\" class=\"dataframe\">\n",
       "  <thead>\n",
       "    <tr style=\"text-align: right;\">\n",
       "      <th></th>\n",
       "      <th>Cement</th>\n",
       "      <th>Blast Furnace Slag</th>\n",
       "      <th>Fly Ash</th>\n",
       "      <th>Water</th>\n",
       "      <th>Superplasticizer</th>\n",
       "      <th>Coarse Aggregate</th>\n",
       "      <th>Fine Aggregate</th>\n",
       "      <th>Age</th>\n",
       "    </tr>\n",
       "  </thead>\n",
       "  <tbody>\n",
       "    <tr>\n",
       "      <th>0</th>\n",
       "      <td>540.0</td>\n",
       "      <td>0.0</td>\n",
       "      <td>0.0</td>\n",
       "      <td>162.0</td>\n",
       "      <td>2.5</td>\n",
       "      <td>1040.0</td>\n",
       "      <td>676.0</td>\n",
       "      <td>28</td>\n",
       "    </tr>\n",
       "    <tr>\n",
       "      <th>1</th>\n",
       "      <td>540.0</td>\n",
       "      <td>0.0</td>\n",
       "      <td>0.0</td>\n",
       "      <td>162.0</td>\n",
       "      <td>2.5</td>\n",
       "      <td>1055.0</td>\n",
       "      <td>676.0</td>\n",
       "      <td>28</td>\n",
       "    </tr>\n",
       "    <tr>\n",
       "      <th>2</th>\n",
       "      <td>332.5</td>\n",
       "      <td>142.5</td>\n",
       "      <td>0.0</td>\n",
       "      <td>228.0</td>\n",
       "      <td>0.0</td>\n",
       "      <td>932.0</td>\n",
       "      <td>594.0</td>\n",
       "      <td>270</td>\n",
       "    </tr>\n",
       "    <tr>\n",
       "      <th>3</th>\n",
       "      <td>332.5</td>\n",
       "      <td>142.5</td>\n",
       "      <td>0.0</td>\n",
       "      <td>228.0</td>\n",
       "      <td>0.0</td>\n",
       "      <td>932.0</td>\n",
       "      <td>594.0</td>\n",
       "      <td>365</td>\n",
       "    </tr>\n",
       "    <tr>\n",
       "      <th>4</th>\n",
       "      <td>198.6</td>\n",
       "      <td>132.4</td>\n",
       "      <td>0.0</td>\n",
       "      <td>192.0</td>\n",
       "      <td>0.0</td>\n",
       "      <td>978.4</td>\n",
       "      <td>825.5</td>\n",
       "      <td>360</td>\n",
       "    </tr>\n",
       "  </tbody>\n",
       "</table>\n",
       "</div>"
      ],
      "text/plain": [
       "   Cement  Blast Furnace Slag  Fly Ash  Water  Superplasticizer  \\\n",
       "0   540.0                 0.0      0.0  162.0               2.5   \n",
       "1   540.0                 0.0      0.0  162.0               2.5   \n",
       "2   332.5               142.5      0.0  228.0               0.0   \n",
       "3   332.5               142.5      0.0  228.0               0.0   \n",
       "4   198.6               132.4      0.0  192.0               0.0   \n",
       "\n",
       "   Coarse Aggregate  Fine Aggregate  Age  \n",
       "0            1040.0           676.0   28  \n",
       "1            1055.0           676.0   28  \n",
       "2             932.0           594.0  270  \n",
       "3             932.0           594.0  365  \n",
       "4             978.4           825.5  360  "
      ]
     },
     "execution_count": 7,
     "metadata": {},
     "output_type": "execute_result"
    }
   ],
   "source": [
    "predictors.head()"
   ]
  },
  {
   "cell_type": "code",
   "execution_count": 8,
   "metadata": {
    "tags": []
   },
   "outputs": [
    {
     "data": {
      "text/plain": [
       "0    79.99\n",
       "1    61.89\n",
       "2    40.27\n",
       "3    41.05\n",
       "4    44.30\n",
       "Name: Strength, dtype: float64"
      ]
     },
     "execution_count": 8,
     "metadata": {},
     "output_type": "execute_result"
    }
   ],
   "source": [
    "target.head()"
   ]
  },
  {
   "cell_type": "markdown",
   "metadata": {},
   "source": [
    "Finally, the last step is to normalize the data by substracting the mean and dividing by the standard deviation.\n"
   ]
  },
  {
   "cell_type": "code",
   "execution_count": 9,
   "metadata": {
    "tags": []
   },
   "outputs": [
    {
     "data": {
      "text/html": [
       "<div>\n",
       "<style scoped>\n",
       "    .dataframe tbody tr th:only-of-type {\n",
       "        vertical-align: middle;\n",
       "    }\n",
       "\n",
       "    .dataframe tbody tr th {\n",
       "        vertical-align: top;\n",
       "    }\n",
       "\n",
       "    .dataframe thead th {\n",
       "        text-align: right;\n",
       "    }\n",
       "</style>\n",
       "<table border=\"1\" class=\"dataframe\">\n",
       "  <thead>\n",
       "    <tr style=\"text-align: right;\">\n",
       "      <th></th>\n",
       "      <th>Cement</th>\n",
       "      <th>Blast Furnace Slag</th>\n",
       "      <th>Fly Ash</th>\n",
       "      <th>Water</th>\n",
       "      <th>Superplasticizer</th>\n",
       "      <th>Coarse Aggregate</th>\n",
       "      <th>Fine Aggregate</th>\n",
       "      <th>Age</th>\n",
       "    </tr>\n",
       "  </thead>\n",
       "  <tbody>\n",
       "    <tr>\n",
       "      <th>0</th>\n",
       "      <td>2.476712</td>\n",
       "      <td>-0.856472</td>\n",
       "      <td>-0.846733</td>\n",
       "      <td>-0.916319</td>\n",
       "      <td>-0.620147</td>\n",
       "      <td>0.862735</td>\n",
       "      <td>-1.217079</td>\n",
       "      <td>-0.279597</td>\n",
       "    </tr>\n",
       "    <tr>\n",
       "      <th>1</th>\n",
       "      <td>2.476712</td>\n",
       "      <td>-0.856472</td>\n",
       "      <td>-0.846733</td>\n",
       "      <td>-0.916319</td>\n",
       "      <td>-0.620147</td>\n",
       "      <td>1.055651</td>\n",
       "      <td>-1.217079</td>\n",
       "      <td>-0.279597</td>\n",
       "    </tr>\n",
       "    <tr>\n",
       "      <th>2</th>\n",
       "      <td>0.491187</td>\n",
       "      <td>0.795140</td>\n",
       "      <td>-0.846733</td>\n",
       "      <td>2.174405</td>\n",
       "      <td>-1.038638</td>\n",
       "      <td>-0.526262</td>\n",
       "      <td>-2.239829</td>\n",
       "      <td>3.551340</td>\n",
       "    </tr>\n",
       "    <tr>\n",
       "      <th>3</th>\n",
       "      <td>0.491187</td>\n",
       "      <td>0.795140</td>\n",
       "      <td>-0.846733</td>\n",
       "      <td>2.174405</td>\n",
       "      <td>-1.038638</td>\n",
       "      <td>-0.526262</td>\n",
       "      <td>-2.239829</td>\n",
       "      <td>5.055221</td>\n",
       "    </tr>\n",
       "    <tr>\n",
       "      <th>4</th>\n",
       "      <td>-0.790075</td>\n",
       "      <td>0.678079</td>\n",
       "      <td>-0.846733</td>\n",
       "      <td>0.488555</td>\n",
       "      <td>-1.038638</td>\n",
       "      <td>0.070492</td>\n",
       "      <td>0.647569</td>\n",
       "      <td>4.976069</td>\n",
       "    </tr>\n",
       "  </tbody>\n",
       "</table>\n",
       "</div>"
      ],
      "text/plain": [
       "     Cement  Blast Furnace Slag   Fly Ash     Water  Superplasticizer  \\\n",
       "0  2.476712           -0.856472 -0.846733 -0.916319         -0.620147   \n",
       "1  2.476712           -0.856472 -0.846733 -0.916319         -0.620147   \n",
       "2  0.491187            0.795140 -0.846733  2.174405         -1.038638   \n",
       "3  0.491187            0.795140 -0.846733  2.174405         -1.038638   \n",
       "4 -0.790075            0.678079 -0.846733  0.488555         -1.038638   \n",
       "\n",
       "   Coarse Aggregate  Fine Aggregate       Age  \n",
       "0          0.862735       -1.217079 -0.279597  \n",
       "1          1.055651       -1.217079 -0.279597  \n",
       "2         -0.526262       -2.239829  3.551340  \n",
       "3         -0.526262       -2.239829  5.055221  \n",
       "4          0.070492        0.647569  4.976069  "
      ]
     },
     "execution_count": 9,
     "metadata": {},
     "output_type": "execute_result"
    }
   ],
   "source": [
    "predictors_norm = (predictors - predictors.mean()) / predictors.std()\n",
    "predictors_norm.head()"
   ]
  },
  {
   "cell_type": "markdown",
   "metadata": {},
   "source": [
    "Let's save the number of predictors to *n_cols* since we will need this number when building our network.\n"
   ]
  },
  {
   "cell_type": "code",
   "execution_count": 17,
   "metadata": {
    "tags": []
   },
   "outputs": [],
   "source": [
    "n_cols = predictors_norm.shape[1] # number of predictors"
   ]
  },
  {
   "cell_type": "markdown",
   "metadata": {},
   "source": [
    "<a id=\"item1\"></a>\n"
   ]
  },
  {
   "cell_type": "markdown",
   "metadata": {},
   "source": [
    "<a id='item32'></a>\n"
   ]
  },
  {
   "cell_type": "markdown",
   "metadata": {},
   "source": [
    "## Import Keras\n"
   ]
  },
  {
   "cell_type": "markdown",
   "metadata": {},
   "source": [
    "Recall from the videos that Keras normally runs on top of a low-level library such as TensorFlow. This means that to be able to use the Keras library, you will have to install TensorFlow first and when you import the Keras library, it will be explicitly displayed what backend was used to install the Keras library. In CC Labs, we used TensorFlow as the backend to install Keras, so it should clearly print that when we import Keras.\n"
   ]
  },
  {
   "cell_type": "markdown",
   "metadata": {},
   "source": [
    "#### Let's go ahead and import the Keras library\n"
   ]
  },
  {
   "cell_type": "code",
   "execution_count": 19,
   "metadata": {
    "tags": []
   },
   "outputs": [],
   "source": [
    "import keras"
   ]
  },
  {
   "cell_type": "markdown",
   "metadata": {},
   "source": [
    "As you can see, the TensorFlow backend was used to install the Keras library.\n"
   ]
  },
  {
   "cell_type": "markdown",
   "metadata": {},
   "source": [
    "Let's import the rest of the packages from the Keras library that we will need to build our regressoin model.\n"
   ]
  },
  {
   "cell_type": "code",
   "execution_count": 20,
   "metadata": {
    "tags": []
   },
   "outputs": [],
   "source": [
    "from keras.models import Sequential\n",
    "from keras.layers import Dense"
   ]
  },
  {
   "cell_type": "markdown",
   "metadata": {},
   "source": [
    "<a id='item33'></a>\n"
   ]
  },
  {
   "cell_type": "markdown",
   "metadata": {},
   "source": [
    "## Build a Neural Network\n"
   ]
  },
  {
   "cell_type": "markdown",
   "metadata": {},
   "source": [
    "Let's define a function that defines our regression model for us so that we can conveniently call it to create our model.\n"
   ]
  },
  {
   "cell_type": "code",
   "execution_count": 21,
   "metadata": {
    "tags": []
   },
   "outputs": [],
   "source": [
    "# define regression model\n",
    "def regression_model():\n",
    "    # create model\n",
    "    model = Sequential()\n",
    "    model.add(Dense(50, activation='relu', input_shape=(n_cols,)))\n",
    "    model.add(Dense(50, activation='relu'))\n",
    "    model.add(Dense(1))\n",
    "    \n",
    "    # compile model\n",
    "    model.compile(optimizer='adam', loss='mean_squared_error')\n",
    "    return model"
   ]
  },
  {
   "cell_type": "markdown",
   "metadata": {},
   "source": [
    "The above function create a model that has two hidden layers, each of 50 hidden units.\n"
   ]
  },
  {
   "cell_type": "markdown",
   "metadata": {},
   "source": [
    "<a id=\"item4\"></a>\n"
   ]
  },
  {
   "cell_type": "markdown",
   "metadata": {},
   "source": [
    "<a id='item34'></a>\n"
   ]
  },
  {
   "cell_type": "markdown",
   "metadata": {},
   "source": [
    "## Train and Test the Network\n"
   ]
  },
  {
   "cell_type": "markdown",
   "metadata": {},
   "source": [
    "Let's call the function now to create our model.\n"
   ]
  },
  {
   "cell_type": "code",
   "execution_count": 22,
   "metadata": {
    "tags": []
   },
   "outputs": [
    {
     "name": "stdout",
     "output_type": "stream",
     "text": [
      "WARNING:tensorflow:From /home/jupyterlab/conda/envs/python/lib/python3.7/site-packages/keras/backend/tensorflow_backend.py:508: The name tf.placeholder is deprecated. Please use tf.compat.v1.placeholder instead.\n",
      "\n",
      "WARNING:tensorflow:From /home/jupyterlab/conda/envs/python/lib/python3.7/site-packages/keras/backend/tensorflow_backend.py:3837: The name tf.random_uniform is deprecated. Please use tf.random.uniform instead.\n",
      "\n",
      "WARNING:tensorflow:From /home/jupyterlab/conda/envs/python/lib/python3.7/site-packages/keras/optimizers.py:757: The name tf.train.Optimizer is deprecated. Please use tf.compat.v1.train.Optimizer instead.\n",
      "\n"
     ]
    }
   ],
   "source": [
    "# build the model\n",
    "model = regression_model()"
   ]
  },
  {
   "cell_type": "markdown",
   "metadata": {},
   "source": [
    "Next, we will train and test the model at the same time using the *fit* method. We will leave out 30% of the data for validation and we will train the model for 100 epochs.\n"
   ]
  },
  {
   "cell_type": "code",
   "execution_count": 23,
   "metadata": {
    "tags": []
   },
   "outputs": [
    {
     "name": "stdout",
     "output_type": "stream",
     "text": [
      "WARNING:tensorflow:From /home/jupyterlab/conda/envs/python/lib/python3.7/site-packages/keras/backend/tensorflow_backend.py:977: The name tf.assign_add is deprecated. Please use tf.compat.v1.assign_add instead.\n",
      "\n",
      "WARNING:tensorflow:From /home/jupyterlab/conda/envs/python/lib/python3.7/site-packages/keras/backend/tensorflow_backend.py:964: The name tf.assign is deprecated. Please use tf.compat.v1.assign instead.\n",
      "\n",
      "Train on 721 samples, validate on 309 samples\n",
      "Epoch 1/100\n"
     ]
    },
    {
     "name": "stderr",
     "output_type": "stream",
     "text": [
      "2024-06-02 07:07:02.500363: I tensorflow/core/platform/cpu_feature_guard.cc:142] Your CPU supports instructions that this TensorFlow binary was not compiled to use: SSE4.1 SSE4.2 AVX AVX2 AVX512F FMA\n",
      "2024-06-02 07:07:02.507442: I tensorflow/core/platform/profile_utils/cpu_utils.cc:94] CPU Frequency: 2394305000 Hz\n",
      "2024-06-02 07:07:02.508017: I tensorflow/compiler/xla/service/service.cc:168] XLA service 0x55e40d8e91c0 executing computations on platform Host. Devices:\n",
      "2024-06-02 07:07:02.508073: I tensorflow/compiler/xla/service/service.cc:175]   StreamExecutor device (0): <undefined>, <undefined>\n",
      "2024-06-02 07:07:02.601886: W tensorflow/compiler/jit/mark_for_compilation_pass.cc:1412] (One-time warning): Not using XLA:CPU for cluster because envvar TF_XLA_FLAGS=--tf_xla_cpu_global_jit was not set.  If you want XLA:CPU, either set that envvar, or use experimental_jit_scope to enable XLA:CPU.  To confirm that XLA is active, pass --vmodule=xla_compilation_cache=1 (as a proper command-line flag, not via TF_XLA_FLAGS) or set the envvar XLA_FLAGS=--xla_hlo_profile.\n"
     ]
    },
    {
     "name": "stdout",
     "output_type": "stream",
     "text": [
      " - 0s - loss: 1663.4589 - val_loss: 1160.0862\n",
      "Epoch 2/100\n",
      " - 0s - loss: 1548.0545 - val_loss: 1048.2796\n",
      "Epoch 3/100\n",
      " - 0s - loss: 1350.8389 - val_loss: 865.0712\n",
      "Epoch 4/100\n",
      " - 0s - loss: 1039.3423 - val_loss: 625.4440\n",
      "Epoch 5/100\n",
      " - 0s - loss: 676.6631 - val_loss: 395.8393\n",
      "Epoch 6/100\n",
      " - 0s - loss: 384.3636 - val_loss: 259.0115\n",
      "Epoch 7/100\n",
      " - 0s - loss: 259.9515 - val_loss: 210.5616\n",
      "Epoch 8/100\n",
      " - 0s - loss: 225.3279 - val_loss: 190.0414\n",
      "Epoch 9/100\n",
      " - 0s - loss: 208.9288 - val_loss: 178.7143\n",
      "Epoch 10/100\n",
      " - 0s - loss: 199.4904 - val_loss: 173.8069\n",
      "Epoch 11/100\n",
      " - 0s - loss: 191.5064 - val_loss: 171.4006\n",
      "Epoch 12/100\n",
      " - 0s - loss: 185.9933 - val_loss: 167.8364\n",
      "Epoch 13/100\n",
      " - 0s - loss: 181.1659 - val_loss: 165.1281\n",
      "Epoch 14/100\n",
      " - 0s - loss: 175.7946 - val_loss: 161.0457\n",
      "Epoch 15/100\n",
      " - 0s - loss: 172.2059 - val_loss: 159.5804\n",
      "Epoch 16/100\n",
      " - 0s - loss: 168.3867 - val_loss: 158.9324\n",
      "Epoch 17/100\n",
      " - 0s - loss: 164.9197 - val_loss: 154.8899\n",
      "Epoch 18/100\n",
      " - 0s - loss: 162.0095 - val_loss: 153.2200\n",
      "Epoch 19/100\n",
      " - 0s - loss: 159.1178 - val_loss: 150.7983\n",
      "Epoch 20/100\n",
      " - 0s - loss: 156.6204 - val_loss: 149.8699\n",
      "Epoch 21/100\n",
      " - 0s - loss: 154.8070 - val_loss: 148.7692\n",
      "Epoch 22/100\n",
      " - 0s - loss: 152.2580 - val_loss: 148.1663\n",
      "Epoch 23/100\n",
      " - 0s - loss: 149.9974 - val_loss: 148.5519\n",
      "Epoch 24/100\n",
      " - 0s - loss: 147.8761 - val_loss: 144.2495\n",
      "Epoch 25/100\n",
      " - 0s - loss: 146.8340 - val_loss: 145.5957\n",
      "Epoch 26/100\n",
      " - 0s - loss: 144.3160 - val_loss: 143.3747\n",
      "Epoch 27/100\n",
      " - 0s - loss: 142.6482 - val_loss: 142.9581\n",
      "Epoch 28/100\n",
      " - 0s - loss: 140.7631 - val_loss: 145.0392\n",
      "Epoch 29/100\n",
      " - 0s - loss: 138.8263 - val_loss: 144.0255\n",
      "Epoch 30/100\n",
      " - 0s - loss: 137.4506 - val_loss: 143.5408\n",
      "Epoch 31/100\n",
      " - 0s - loss: 135.3437 - val_loss: 140.6145\n",
      "Epoch 32/100\n",
      " - 0s - loss: 134.0967 - val_loss: 141.8784\n",
      "Epoch 33/100\n",
      " - 0s - loss: 132.9575 - val_loss: 140.1871\n",
      "Epoch 34/100\n",
      " - 0s - loss: 130.8178 - val_loss: 141.5451\n",
      "Epoch 35/100\n",
      " - 0s - loss: 129.3815 - val_loss: 141.1183\n",
      "Epoch 36/100\n",
      " - 0s - loss: 127.7223 - val_loss: 138.8544\n",
      "Epoch 37/100\n",
      " - 0s - loss: 126.5354 - val_loss: 139.9942\n",
      "Epoch 38/100\n",
      " - 0s - loss: 125.2443 - val_loss: 139.2808\n",
      "Epoch 39/100\n",
      " - 0s - loss: 124.2794 - val_loss: 138.8344\n",
      "Epoch 40/100\n",
      " - 0s - loss: 122.4598 - val_loss: 140.2046\n",
      "Epoch 41/100\n",
      " - 0s - loss: 121.3478 - val_loss: 137.9616\n",
      "Epoch 42/100\n",
      " - 0s - loss: 119.7661 - val_loss: 139.5320\n",
      "Epoch 43/100\n",
      " - 0s - loss: 118.2807 - val_loss: 138.1470\n",
      "Epoch 44/100\n",
      " - 0s - loss: 116.7512 - val_loss: 137.3654\n",
      "Epoch 45/100\n",
      " - 0s - loss: 115.5360 - val_loss: 137.0587\n",
      "Epoch 46/100\n",
      " - 0s - loss: 114.0741 - val_loss: 139.9602\n",
      "Epoch 47/100\n",
      " - 0s - loss: 112.8039 - val_loss: 138.2310\n",
      "Epoch 48/100\n",
      " - 0s - loss: 111.5305 - val_loss: 138.3371\n",
      "Epoch 49/100\n",
      " - 0s - loss: 109.3474 - val_loss: 140.6634\n",
      "Epoch 50/100\n",
      " - 0s - loss: 108.0589 - val_loss: 137.9199\n",
      "Epoch 51/100\n",
      " - 0s - loss: 106.0863 - val_loss: 139.1970\n",
      "Epoch 52/100\n",
      " - 0s - loss: 104.7412 - val_loss: 140.5319\n",
      "Epoch 53/100\n",
      " - 0s - loss: 102.1441 - val_loss: 140.4382\n",
      "Epoch 54/100\n",
      " - 0s - loss: 100.2823 - val_loss: 140.4422\n",
      "Epoch 55/100\n",
      " - 0s - loss: 98.3202 - val_loss: 139.4659\n",
      "Epoch 56/100\n",
      " - 0s - loss: 95.8357 - val_loss: 140.4676\n",
      "Epoch 57/100\n",
      " - 0s - loss: 93.7015 - val_loss: 136.5932\n",
      "Epoch 58/100\n",
      " - 0s - loss: 91.1303 - val_loss: 135.9240\n",
      "Epoch 59/100\n",
      " - 0s - loss: 88.3678 - val_loss: 139.7501\n",
      "Epoch 60/100\n",
      " - 0s - loss: 85.8686 - val_loss: 135.0871\n",
      "Epoch 61/100\n",
      " - 0s - loss: 83.5430 - val_loss: 136.2840\n",
      "Epoch 62/100\n",
      " - 0s - loss: 80.8378 - val_loss: 136.1969\n",
      "Epoch 63/100\n",
      " - 0s - loss: 77.3445 - val_loss: 134.7551\n",
      "Epoch 64/100\n",
      " - 0s - loss: 74.7938 - val_loss: 128.8029\n",
      "Epoch 65/100\n",
      " - 0s - loss: 72.4174 - val_loss: 133.6427\n",
      "Epoch 66/100\n",
      " - 0s - loss: 69.4833 - val_loss: 131.1307\n",
      "Epoch 67/100\n",
      " - 0s - loss: 67.0427 - val_loss: 132.3290\n",
      "Epoch 68/100\n",
      " - 0s - loss: 64.9030 - val_loss: 124.5820\n",
      "Epoch 69/100\n",
      " - 0s - loss: 61.7647 - val_loss: 130.8485\n",
      "Epoch 70/100\n",
      " - 0s - loss: 59.6847 - val_loss: 129.6165\n",
      "Epoch 71/100\n",
      " - 0s - loss: 57.3687 - val_loss: 126.9632\n",
      "Epoch 72/100\n",
      " - 0s - loss: 54.9905 - val_loss: 125.0417\n",
      "Epoch 73/100\n",
      " - 0s - loss: 53.5386 - val_loss: 125.8729\n",
      "Epoch 74/100\n",
      " - 0s - loss: 51.9136 - val_loss: 123.2241\n",
      "Epoch 75/100\n",
      " - 0s - loss: 50.2711 - val_loss: 125.4804\n",
      "Epoch 76/100\n",
      " - 0s - loss: 48.4570 - val_loss: 117.3132\n",
      "Epoch 77/100\n",
      " - 0s - loss: 48.3307 - val_loss: 124.6054\n",
      "Epoch 78/100\n",
      " - 0s - loss: 46.2547 - val_loss: 122.3783\n",
      "Epoch 79/100\n",
      " - 0s - loss: 45.2275 - val_loss: 122.7831\n",
      "Epoch 80/100\n",
      " - 0s - loss: 44.2896 - val_loss: 117.3329\n",
      "Epoch 81/100\n",
      " - 0s - loss: 43.2158 - val_loss: 119.3144\n",
      "Epoch 82/100\n",
      " - 0s - loss: 42.3913 - val_loss: 122.3602\n",
      "Epoch 83/100\n",
      " - 0s - loss: 41.5458 - val_loss: 117.9783\n",
      "Epoch 84/100\n",
      " - 0s - loss: 40.6280 - val_loss: 118.0776\n",
      "Epoch 85/100\n",
      " - 0s - loss: 39.9089 - val_loss: 113.4251\n",
      "Epoch 86/100\n",
      " - 0s - loss: 39.6320 - val_loss: 112.3965\n",
      "Epoch 87/100\n",
      " - 0s - loss: 38.2542 - val_loss: 123.0474\n",
      "Epoch 88/100\n",
      " - 0s - loss: 37.5004 - val_loss: 118.9116\n",
      "Epoch 89/100\n",
      " - 0s - loss: 36.9789 - val_loss: 118.8369\n",
      "Epoch 90/100\n",
      " - 0s - loss: 36.5802 - val_loss: 120.3565\n",
      "Epoch 91/100\n",
      " - 0s - loss: 35.7617 - val_loss: 120.5591\n",
      "Epoch 92/100\n",
      " - 0s - loss: 35.2644 - val_loss: 120.4581\n",
      "Epoch 93/100\n",
      " - 0s - loss: 34.8788 - val_loss: 118.2318\n",
      "Epoch 94/100\n",
      " - 0s - loss: 34.1257 - val_loss: 122.4440\n",
      "Epoch 95/100\n",
      " - 0s - loss: 33.7434 - val_loss: 128.1042\n",
      "Epoch 96/100\n",
      " - 0s - loss: 33.3736 - val_loss: 124.1541\n",
      "Epoch 97/100\n",
      " - 0s - loss: 33.2362 - val_loss: 118.8460\n",
      "Epoch 98/100\n",
      " - 0s - loss: 32.5346 - val_loss: 118.0311\n",
      "Epoch 99/100\n",
      " - 0s - loss: 31.7763 - val_loss: 130.0520\n",
      "Epoch 100/100\n",
      " - 0s - loss: 31.3385 - val_loss: 122.0229\n"
     ]
    },
    {
     "data": {
      "text/plain": [
       "<keras.callbacks.History at 0x7f923ae869d0>"
      ]
     },
     "execution_count": 23,
     "metadata": {},
     "output_type": "execute_result"
    }
   ],
   "source": [
    "# fit the model\n",
    "model.fit(predictors_norm, target, validation_split=0.3, epochs=100, verbose=2)"
   ]
  },
  {
   "cell_type": "code",
   "execution_count": null,
   "metadata": {},
   "outputs": [],
   "source": [
    "\n"
   ]
  },
  {
   "cell_type": "code",
   "execution_count": 1,
   "metadata": {},
   "outputs": [
    {
     "name": "stdout",
     "output_type": "stream",
     "text": [
      "Epoch 1/100\n",
      "18/18 - 2s - loss: 1578.3594 - val_loss: 1453.6805 - 2s/epoch - 91ms/step\n",
      "Epoch 2/100\n",
      "18/18 - 0s - loss: 1489.7028 - val_loss: 1357.8840 - 97ms/epoch - 5ms/step\n",
      "Epoch 3/100\n",
      "18/18 - 0s - loss: 1369.3483 - val_loss: 1220.1493 - 94ms/epoch - 5ms/step\n",
      "Epoch 4/100\n",
      "18/18 - 0s - loss: 1199.4243 - val_loss: 1029.1566 - 91ms/epoch - 5ms/step\n",
      "Epoch 5/100\n",
      "18/18 - 0s - loss: 978.1569 - val_loss: 799.9514 - 95ms/epoch - 5ms/step\n",
      "Epoch 6/100\n",
      "18/18 - 0s - loss: 723.9427 - val_loss: 570.5151 - 115ms/epoch - 6ms/step\n",
      "Epoch 7/100\n",
      "18/18 - 0s - loss: 498.3542 - val_loss: 379.8947 - 113ms/epoch - 6ms/step\n",
      "Epoch 8/100\n",
      "18/18 - 0s - loss: 338.0956 - val_loss: 271.7922 - 97ms/epoch - 5ms/step\n",
      "Epoch 9/100\n",
      "18/18 - 0s - loss: 267.3332 - val_loss: 223.2079 - 91ms/epoch - 5ms/step\n",
      "Epoch 10/100\n",
      "18/18 - 0s - loss: 239.0970 - val_loss: 202.2641 - 100ms/epoch - 6ms/step\n",
      "Epoch 11/100\n",
      "18/18 - 0s - loss: 222.5865 - val_loss: 193.6070 - 143ms/epoch - 8ms/step\n",
      "Epoch 12/100\n",
      "18/18 - 0s - loss: 211.0507 - val_loss: 186.1304 - 85ms/epoch - 5ms/step\n",
      "Epoch 13/100\n",
      "18/18 - 0s - loss: 202.4673 - val_loss: 182.1737 - 92ms/epoch - 5ms/step\n",
      "Epoch 14/100\n",
      "18/18 - 0s - loss: 194.9427 - val_loss: 177.7218 - 98ms/epoch - 5ms/step\n",
      "Epoch 15/100\n",
      "18/18 - 0s - loss: 188.5982 - val_loss: 171.8969 - 92ms/epoch - 5ms/step\n",
      "Epoch 16/100\n",
      "18/18 - 0s - loss: 182.8881 - val_loss: 168.3804 - 103ms/epoch - 6ms/step\n",
      "Epoch 17/100\n",
      "18/18 - 0s - loss: 178.2980 - val_loss: 164.0441 - 92ms/epoch - 5ms/step\n",
      "Epoch 18/100\n",
      "18/18 - 0s - loss: 174.0005 - val_loss: 161.4102 - 93ms/epoch - 5ms/step\n",
      "Epoch 19/100\n",
      "18/18 - 0s - loss: 169.8353 - val_loss: 158.3572 - 92ms/epoch - 5ms/step\n",
      "Epoch 20/100\n",
      "18/18 - 0s - loss: 166.1156 - val_loss: 155.8831 - 91ms/epoch - 5ms/step\n",
      "Epoch 21/100\n",
      "18/18 - 0s - loss: 163.2720 - val_loss: 153.5560 - 95ms/epoch - 5ms/step\n",
      "Epoch 22/100\n",
      "18/18 - 0s - loss: 160.7003 - val_loss: 151.6463 - 90ms/epoch - 5ms/step\n",
      "Epoch 23/100\n",
      "18/18 - 0s - loss: 157.6904 - val_loss: 150.3798 - 93ms/epoch - 5ms/step\n",
      "Epoch 24/100\n",
      "18/18 - 0s - loss: 155.2878 - val_loss: 149.7682 - 89ms/epoch - 5ms/step\n",
      "Epoch 25/100\n",
      "18/18 - 0s - loss: 153.4524 - val_loss: 147.2011 - 91ms/epoch - 5ms/step\n",
      "Epoch 26/100\n",
      "18/18 - 0s - loss: 151.3450 - val_loss: 146.9390 - 86ms/epoch - 5ms/step\n",
      "Epoch 27/100\n",
      "18/18 - 0s - loss: 149.0994 - val_loss: 144.4103 - 92ms/epoch - 5ms/step\n",
      "Epoch 28/100\n",
      "18/18 - 0s - loss: 147.2841 - val_loss: 142.5000 - 93ms/epoch - 5ms/step\n",
      "Epoch 29/100\n",
      "18/18 - 0s - loss: 145.5408 - val_loss: 142.3335 - 106ms/epoch - 6ms/step\n",
      "Epoch 30/100\n",
      "18/18 - 0s - loss: 144.2101 - val_loss: 141.7222 - 111ms/epoch - 6ms/step\n",
      "Epoch 31/100\n",
      "18/18 - 0s - loss: 142.4697 - val_loss: 140.3317 - 87ms/epoch - 5ms/step\n",
      "Epoch 32/100\n",
      "18/18 - 0s - loss: 141.0296 - val_loss: 138.7982 - 92ms/epoch - 5ms/step\n",
      "Epoch 33/100\n",
      "18/18 - 0s - loss: 139.7091 - val_loss: 138.8291 - 89ms/epoch - 5ms/step\n",
      "Epoch 34/100\n",
      "18/18 - 0s - loss: 138.5839 - val_loss: 136.3549 - 81ms/epoch - 4ms/step\n",
      "Epoch 35/100\n",
      "18/18 - 0s - loss: 137.2191 - val_loss: 136.4384 - 94ms/epoch - 5ms/step\n",
      "Epoch 36/100\n",
      "18/18 - 0s - loss: 135.5424 - val_loss: 135.3673 - 96ms/epoch - 5ms/step\n",
      "Epoch 37/100\n",
      "18/18 - 0s - loss: 134.5108 - val_loss: 133.9408 - 91ms/epoch - 5ms/step\n",
      "Epoch 38/100\n",
      "18/18 - 0s - loss: 132.8938 - val_loss: 133.0339 - 91ms/epoch - 5ms/step\n",
      "Epoch 39/100\n",
      "18/18 - 0s - loss: 131.9378 - val_loss: 132.5827 - 110ms/epoch - 6ms/step\n",
      "Epoch 40/100\n",
      "18/18 - 0s - loss: 130.4913 - val_loss: 131.2776 - 91ms/epoch - 5ms/step\n",
      "Epoch 41/100\n",
      "18/18 - 0s - loss: 129.4093 - val_loss: 129.5888 - 89ms/epoch - 5ms/step\n",
      "Epoch 42/100\n",
      "18/18 - 0s - loss: 128.1929 - val_loss: 129.0533 - 89ms/epoch - 5ms/step\n",
      "Epoch 43/100\n",
      "18/18 - 0s - loss: 126.8325 - val_loss: 127.9860 - 87ms/epoch - 5ms/step\n",
      "Epoch 44/100\n",
      "18/18 - 0s - loss: 125.5532 - val_loss: 126.6508 - 92ms/epoch - 5ms/step\n",
      "Epoch 45/100\n",
      "18/18 - 0s - loss: 124.2382 - val_loss: 125.2369 - 86ms/epoch - 5ms/step\n",
      "Epoch 46/100\n",
      "18/18 - 0s - loss: 123.1381 - val_loss: 124.8995 - 92ms/epoch - 5ms/step\n",
      "Epoch 47/100\n",
      "18/18 - 0s - loss: 121.7467 - val_loss: 123.6629 - 98ms/epoch - 5ms/step\n",
      "Epoch 48/100\n",
      "18/18 - 0s - loss: 120.5848 - val_loss: 122.7802 - 140ms/epoch - 8ms/step\n",
      "Epoch 49/100\n",
      "18/18 - 0s - loss: 119.0942 - val_loss: 121.2619 - 92ms/epoch - 5ms/step\n",
      "Epoch 50/100\n",
      "18/18 - 0s - loss: 118.3242 - val_loss: 119.3540 - 85ms/epoch - 5ms/step\n",
      "Epoch 51/100\n",
      "18/18 - 0s - loss: 116.6826 - val_loss: 118.1408 - 98ms/epoch - 5ms/step\n",
      "Epoch 52/100\n",
      "18/18 - 0s - loss: 115.8832 - val_loss: 118.6786 - 114ms/epoch - 6ms/step\n",
      "Epoch 53/100\n",
      "18/18 - 0s - loss: 114.1551 - val_loss: 116.5232 - 104ms/epoch - 6ms/step\n",
      "Epoch 54/100\n",
      "18/18 - 0s - loss: 112.5596 - val_loss: 114.5044 - 84ms/epoch - 5ms/step\n",
      "Epoch 55/100\n",
      "18/18 - 0s - loss: 111.1719 - val_loss: 113.4997 - 89ms/epoch - 5ms/step\n",
      "Epoch 56/100\n",
      "18/18 - 0s - loss: 109.5002 - val_loss: 111.9694 - 95ms/epoch - 5ms/step\n",
      "Epoch 57/100\n",
      "18/18 - 0s - loss: 108.2215 - val_loss: 111.3192 - 87ms/epoch - 5ms/step\n",
      "Epoch 58/100\n",
      "18/18 - 0s - loss: 106.4380 - val_loss: 109.4917 - 90ms/epoch - 5ms/step\n",
      "Epoch 59/100\n",
      "18/18 - 0s - loss: 104.5033 - val_loss: 106.5479 - 88ms/epoch - 5ms/step\n",
      "Epoch 60/100\n",
      "18/18 - 0s - loss: 102.4069 - val_loss: 105.0272 - 88ms/epoch - 5ms/step\n",
      "Epoch 61/100\n",
      "18/18 - 0s - loss: 100.8808 - val_loss: 103.0103 - 102ms/epoch - 6ms/step\n",
      "Epoch 62/100\n",
      "18/18 - 0s - loss: 99.0026 - val_loss: 101.4183 - 107ms/epoch - 6ms/step\n",
      "Epoch 63/100\n",
      "18/18 - 0s - loss: 97.1400 - val_loss: 99.7673 - 93ms/epoch - 5ms/step\n",
      "Epoch 64/100\n",
      "18/18 - 0s - loss: 94.9819 - val_loss: 97.8330 - 91ms/epoch - 5ms/step\n",
      "Epoch 65/100\n",
      "18/18 - 0s - loss: 92.9842 - val_loss: 96.1568 - 90ms/epoch - 5ms/step\n",
      "Epoch 66/100\n",
      "18/18 - 0s - loss: 91.3754 - val_loss: 93.4811 - 89ms/epoch - 5ms/step\n",
      "Epoch 67/100\n",
      "18/18 - 0s - loss: 88.5918 - val_loss: 91.3416 - 89ms/epoch - 5ms/step\n",
      "Epoch 68/100\n",
      "18/18 - 0s - loss: 86.6241 - val_loss: 89.2044 - 88ms/epoch - 5ms/step\n",
      "Epoch 69/100\n",
      "18/18 - 0s - loss: 84.9611 - val_loss: 87.5189 - 93ms/epoch - 5ms/step\n",
      "Epoch 70/100\n",
      "18/18 - 0s - loss: 82.2836 - val_loss: 85.4723 - 94ms/epoch - 5ms/step\n",
      "Epoch 71/100\n",
      "18/18 - 0s - loss: 80.4015 - val_loss: 83.6393 - 94ms/epoch - 5ms/step\n",
      "Epoch 72/100\n",
      "18/18 - 0s - loss: 78.5882 - val_loss: 81.1063 - 98ms/epoch - 5ms/step\n",
      "Epoch 73/100\n",
      "18/18 - 0s - loss: 76.0564 - val_loss: 78.3920 - 88ms/epoch - 5ms/step\n",
      "Epoch 74/100\n",
      "18/18 - 0s - loss: 73.7301 - val_loss: 76.4867 - 87ms/epoch - 5ms/step\n",
      "Epoch 75/100\n",
      "18/18 - 0s - loss: 71.6377 - val_loss: 74.3862 - 113ms/epoch - 6ms/step\n",
      "Epoch 76/100\n",
      "18/18 - 0s - loss: 69.6690 - val_loss: 71.6452 - 109ms/epoch - 6ms/step\n",
      "Epoch 77/100\n",
      "18/18 - 0s - loss: 66.9577 - val_loss: 69.8061 - 89ms/epoch - 5ms/step\n",
      "Epoch 78/100\n",
      "18/18 - 0s - loss: 65.4236 - val_loss: 68.0294 - 89ms/epoch - 5ms/step\n",
      "Epoch 79/100\n",
      "18/18 - 0s - loss: 63.0525 - val_loss: 65.4805 - 92ms/epoch - 5ms/step\n",
      "Epoch 80/100\n",
      "18/18 - 0s - loss: 61.3400 - val_loss: 63.9655 - 90ms/epoch - 5ms/step\n",
      "Epoch 81/100\n",
      "18/18 - 0s - loss: 59.6181 - val_loss: 62.1506 - 90ms/epoch - 5ms/step\n",
      "Epoch 82/100\n",
      "18/18 - 0s - loss: 58.6235 - val_loss: 61.2007 - 89ms/epoch - 5ms/step\n",
      "Epoch 83/100\n",
      "18/18 - 0s - loss: 56.4811 - val_loss: 59.8455 - 86ms/epoch - 5ms/step\n",
      "Epoch 84/100\n",
      "18/18 - 0s - loss: 55.0927 - val_loss: 58.3646 - 88ms/epoch - 5ms/step\n",
      "Epoch 85/100\n",
      "18/18 - 0s - loss: 53.3056 - val_loss: 56.2821 - 141ms/epoch - 8ms/step\n",
      "Epoch 86/100\n",
      "18/18 - 0s - loss: 52.0158 - val_loss: 54.8612 - 101ms/epoch - 6ms/step\n",
      "Epoch 87/100\n",
      "18/18 - 0s - loss: 50.9829 - val_loss: 54.1946 - 96ms/epoch - 5ms/step\n",
      "Epoch 88/100\n",
      "18/18 - 0s - loss: 49.8234 - val_loss: 52.9429 - 92ms/epoch - 5ms/step\n",
      "Epoch 89/100\n",
      "18/18 - 0s - loss: 48.5010 - val_loss: 52.4348 - 92ms/epoch - 5ms/step\n",
      "Epoch 90/100\n",
      "18/18 - 0s - loss: 47.4929 - val_loss: 50.1439 - 88ms/epoch - 5ms/step\n",
      "Epoch 91/100\n",
      "18/18 - 0s - loss: 46.4765 - val_loss: 49.9224 - 89ms/epoch - 5ms/step\n",
      "Epoch 92/100\n",
      "18/18 - 0s - loss: 45.6991 - val_loss: 48.6324 - 96ms/epoch - 5ms/step\n",
      "Epoch 93/100\n",
      "18/18 - 0s - loss: 45.1846 - val_loss: 47.6931 - 92ms/epoch - 5ms/step\n",
      "Epoch 94/100\n",
      "18/18 - 0s - loss: 44.0839 - val_loss: 47.8241 - 93ms/epoch - 5ms/step\n",
      "Epoch 95/100\n",
      "18/18 - 0s - loss: 43.7585 - val_loss: 46.0488 - 85ms/epoch - 5ms/step\n",
      "Epoch 96/100\n",
      "18/18 - 0s - loss: 42.5468 - val_loss: 45.5877 - 94ms/epoch - 5ms/step\n",
      "Epoch 97/100\n",
      "18/18 - 0s - loss: 42.6109 - val_loss: 44.7005 - 99ms/epoch - 5ms/step\n",
      "Epoch 98/100\n",
      "18/18 - 0s - loss: 41.5098 - val_loss: 43.9476 - 165ms/epoch - 9ms/step\n",
      "Epoch 99/100\n",
      "18/18 - 0s - loss: 40.7918 - val_loss: 43.5384 - 175ms/epoch - 10ms/step\n",
      "Epoch 100/100\n",
      "18/18 - 0s - loss: 40.0267 - val_loss: 42.7698 - 117ms/epoch - 7ms/step\n",
      "7/7 [==============================] - 0s 3ms/step - loss: 43.5605\n",
      "Test Loss: 43.560455322265625\n",
      "7/7 [==============================] - 0s 3ms/step\n",
      "Predictions: [[43.444298 ]\n",
      " [48.15453  ]\n",
      " [64.98545  ]\n",
      " [45.72889  ]\n",
      " [16.47987  ]\n",
      " [44.20436  ]\n",
      " [25.408146 ]\n",
      " [53.60489  ]\n",
      " [30.509554 ]\n",
      " [44.623493 ]\n",
      " [31.545568 ]\n",
      " [ 8.243711 ]\n",
      " [47.413033 ]\n",
      " [43.113426 ]\n",
      " [24.462187 ]\n",
      " [27.555622 ]\n",
      " [33.054516 ]\n",
      " [18.892431 ]\n",
      " [32.461838 ]\n",
      " [29.25941  ]\n",
      " [34.78524  ]\n",
      " [49.09352  ]\n",
      " [43.64296  ]\n",
      " [12.292091 ]\n",
      " [27.008621 ]\n",
      " [33.15792  ]\n",
      " [11.248239 ]\n",
      " [44.62213  ]\n",
      " [55.35438  ]\n",
      " [17.022942 ]\n",
      " [40.511604 ]\n",
      " [35.242626 ]\n",
      " [52.38848  ]\n",
      " [58.351856 ]\n",
      " [23.483995 ]\n",
      " [37.70168  ]\n",
      " [30.703102 ]\n",
      " [41.41565  ]\n",
      " [12.124237 ]\n",
      " [44.477554 ]\n",
      " [16.00729  ]\n",
      " [ 6.5400214]\n",
      " [35.35905  ]\n",
      " [49.575703 ]\n",
      " [11.890084 ]\n",
      " [71.48874  ]\n",
      " [43.940296 ]\n",
      " [38.198925 ]\n",
      " [24.313585 ]\n",
      " [ 9.003235 ]\n",
      " [49.427483 ]\n",
      " [41.59608  ]\n",
      " [30.140057 ]\n",
      " [17.649958 ]\n",
      " [46.336742 ]\n",
      " [45.239704 ]\n",
      " [23.185474 ]\n",
      " [11.726186 ]\n",
      " [38.334515 ]\n",
      " [21.58627  ]\n",
      " [41.45699  ]\n",
      " [19.872854 ]\n",
      " [38.044315 ]\n",
      " [47.689068 ]\n",
      " [25.552471 ]\n",
      " [17.053686 ]\n",
      " [37.289543 ]\n",
      " [14.90336  ]\n",
      " [32.970528 ]\n",
      " [20.919163 ]\n",
      " [13.820604 ]\n",
      " [23.06368  ]\n",
      " [ 8.094274 ]\n",
      " [31.460224 ]\n",
      " [28.96117  ]\n",
      " [11.284703 ]\n",
      " [43.226578 ]\n",
      " [51.756454 ]\n",
      " [61.973125 ]\n",
      " [13.437656 ]\n",
      " [50.856922 ]\n",
      " [40.853638 ]\n",
      " [38.346733 ]\n",
      " [34.653267 ]\n",
      " [49.83898  ]\n",
      " [45.72889  ]\n",
      " [34.437546 ]\n",
      " [35.76187  ]\n",
      " [21.482601 ]\n",
      " [17.03221  ]\n",
      " [30.005285 ]\n",
      " [71.071465 ]\n",
      " [13.083669 ]\n",
      " [52.569267 ]\n",
      " [40.565773 ]\n",
      " [43.464687 ]\n",
      " [22.960144 ]\n",
      " [31.295303 ]\n",
      " [23.077616 ]\n",
      " [32.943226 ]\n",
      " [28.101755 ]\n",
      " [41.06252  ]\n",
      " [51.220695 ]\n",
      " [26.070438 ]\n",
      " [72.43628  ]\n",
      " [10.888415 ]\n",
      " [56.901    ]\n",
      " [30.180422 ]\n",
      " [32.3915   ]\n",
      " [59.397774 ]\n",
      " [58.163967 ]\n",
      " [43.742756 ]\n",
      " [30.026894 ]\n",
      " [42.290085 ]\n",
      " [39.198257 ]\n",
      " [58.989758 ]\n",
      " [19.007364 ]\n",
      " [37.889126 ]\n",
      " [52.832417 ]\n",
      " [40.578846 ]\n",
      " [21.992271 ]\n",
      " [28.030172 ]\n",
      " [45.91989  ]\n",
      " [33.842976 ]\n",
      " [23.301104 ]\n",
      " [40.36435  ]\n",
      " [51.253403 ]\n",
      " [45.2234   ]\n",
      " [42.972588 ]\n",
      " [35.53177  ]\n",
      " [11.563684 ]\n",
      " [28.78623  ]\n",
      " [19.611767 ]\n",
      " [72.56806  ]\n",
      " [ 9.551866 ]\n",
      " [47.751625 ]\n",
      " [28.248402 ]\n",
      " [39.08749  ]\n",
      " [23.284563 ]\n",
      " [35.206104 ]\n",
      " [30.596521 ]\n",
      " [35.428585 ]\n",
      " [19.461191 ]\n",
      " [30.403456 ]\n",
      " [50.35908  ]\n",
      " [37.72215  ]\n",
      " [27.85596  ]\n",
      " [14.649859 ]\n",
      " [ 9.876675 ]\n",
      " [14.484288 ]\n",
      " [36.012627 ]\n",
      " [21.078587 ]\n",
      " [40.081795 ]\n",
      " [22.708982 ]\n",
      " [51.200844 ]\n",
      " [38.923584 ]\n",
      " [31.314156 ]\n",
      " [72.286476 ]\n",
      " [48.15453  ]\n",
      " [44.34279  ]\n",
      " [11.552048 ]\n",
      " [49.87185  ]\n",
      " [29.600151 ]\n",
      " [41.761612 ]\n",
      " [43.3884   ]\n",
      " [59.42073  ]\n",
      " [46.89414  ]\n",
      " [20.66291  ]\n",
      " [42.329712 ]\n",
      " [23.148102 ]\n",
      " [39.257153 ]\n",
      " [15.340114 ]\n",
      " [18.66278  ]\n",
      " [37.714386 ]\n",
      " [38.977417 ]\n",
      " [12.550998 ]\n",
      " [24.222122 ]\n",
      " [43.8521   ]\n",
      " [44.58664  ]\n",
      " [36.449677 ]\n",
      " [36.17292  ]\n",
      " [27.30009  ]\n",
      " [59.24371  ]\n",
      " [36.058777 ]\n",
      " [38.657917 ]\n",
      " [41.396553 ]\n",
      " [23.820555 ]\n",
      " [32.821384 ]\n",
      " [40.43061  ]\n",
      " [15.305094 ]\n",
      " [38.04131  ]\n",
      " [57.280674 ]\n",
      " [45.969048 ]\n",
      " [41.756077 ]\n",
      " [33.563744 ]\n",
      " [26.292881 ]\n",
      " [49.12661  ]\n",
      " [21.034557 ]\n",
      " [21.286848 ]\n",
      " [21.575647 ]\n",
      " [40.476566 ]\n",
      " [58.989758 ]\n",
      " [23.558468 ]\n",
      " [48.27991  ]\n",
      " [61.352463 ]\n",
      " [35.06007  ]]\n"
     ]
    },
    {
     "data": {
      "image/png": "[encoded data removed]",
      "text/plain": [
       "<Figure size 640x480 with 1 Axes>"
      ]
     },
     "metadata": {},
     "output_type": "display_data"
    },
    {
     "name": "stdout",
     "output_type": "stream",
     "text": [
      "1/1 [==============================] - 0s 50ms/step\n",
      "Predicted Strength for Random Input: 62.60072\n"
     ]
    },
    {
     "name": "stderr",
     "output_type": "stream",
     "text": [
      "c:\\Users\\Fathima Nizar\\AppData\\Local\\Programs\\Python\\Python311\\Lib\\site-packages\\sklearn\\base.py:465: UserWarning: X does not have valid feature names, but StandardScaler was fitted with feature names\n",
      "  warnings.warn(\n"
     ]
    }
   ],
   "source": [
    "#Alternative !!\n",
    "\n",
    "import pandas as pd\n",
    "\n",
    "import numpy as np\n",
    "from sklearn.model_selection import train_test_split\n",
    "from sklearn.preprocessing import StandardScaler\n",
    "from keras.models import Sequential\n",
    "from keras.layers import Dense\n",
    "import matplotlib.pyplot as plt\n",
    "\n",
    "# Load dataset\n",
    "concrete_data = pd.read_csv('concrete_data.csv')\n",
    "\n",
    "# Separate predictors and target\n",
    "concrete_data_columns = concrete_data.columns\n",
    "predictors = concrete_data[concrete_data_columns[concrete_data_columns != 'Strength']] # all columns except Strength\n",
    "target = concrete_data['Strength'] # Strength column\n",
    "\n",
    "# Split the data into training and testing sets\n",
    "X_train, X_test, y_train, y_test = train_test_split(predictors, target, test_size=0.2, random_state=42)\n",
    "\n",
    "# Standardize the features\n",
    "scaler = StandardScaler()\n",
    "X_train = scaler.fit_transform(X_train)\n",
    "X_test = scaler.transform(X_test)\n",
    "\n",
    "# Define the model\n",
    "def regression_model():\n",
    "    model = Sequential()\n",
    "    model.add(Dense(50, activation='relu', input_shape=(X_train.shape[1],)))\n",
    "    model.add(Dense(50, activation='relu'))\n",
    "    model.add(Dense(1))  # Output layer for regression\n",
    "    return model\n",
    "\n",
    "model = regression_model()\n",
    "\n",
    "# Compile the model\n",
    "model.compile(optimizer='adam', loss='mean_squared_error')\n",
    "\n",
    "# Train the model\n",
    "history = model.fit(X_train, y_train, validation_split=0.3, epochs=100, verbose=2)\n",
    "\n",
    "# Evaluate the model\n",
    "test_loss = model.evaluate(X_test, y_test)\n",
    "print('Test Loss:', test_loss)\n",
    "\n",
    "# Make predictions\n",
    "predictions = model.predict(X_test)\n",
    "print('Predictions:', predictions)\n",
    "\n",
    "# Plot training & validation loss values\n",
    "plt.plot(history.history['loss'])\n",
    "plt.plot(history.history['val_loss'])\n",
    "plt.title('Model Loss')\n",
    "plt.xlabel('Epoch')\n",
    "plt.ylabel('Loss')\n",
    "plt.legend(['Train', 'Validation'], loc='upper right')\n",
    "plt.show()\n",
    "\n",
    "# Predict for random input variables\n",
    "random_input = np.array([[540, 0, 0, 162, 2.5, 1040, 676, 28]]) # Example values\n",
    "random_input_scaled = scaler.transform(random_input)\n",
    "random_prediction = model.predict(random_input_scaled)\n",
    "print('Predicted Strength for Random Input:', random_prediction[0][0])\n"
   ]
  },
  {
   "cell_type": "markdown",
   "metadata": {},
   "source": [
    "<strong>You can refer to this [link](https://keras.io/models/sequential/?utm_medium=Exinfluencer&utm_source=Exinfluencer&utm_content=000026UJ&utm_term=10006555&utm_id=NA-SkillsNetwork-Channel-SkillsNetworkCoursesIBMDeveloperSkillsNetworkDL0101ENSkillsNetwork945-2022-01-01) to learn about other functions that you can use for prediction or evaluation.</strong>\n"
   ]
  },
  {
   "cell_type": "code",
   "execution_count": null,
   "metadata": {},
   "outputs": [],
   "source": []
  },
  {
   "cell_type": "markdown",
   "metadata": {},
   "source": [
    "Feel free to vary the following and note what impact each change has on the model's performance:\n",
    "\n",
    "1. Increase or decreate number of neurons in hidden layers\n",
    "2. Add more hidden layers\n",
    "3. Increase number of epochs\n"
   ]
  },
  {
   "cell_type": "code",
   "execution_count": null,
   "metadata": {},
   "outputs": [],
   "source": []
  },
  {
   "cell_type": "markdown",
   "metadata": {},
   "source": []
  }
 ],
 "metadata": {
  "kernelspec": {
   "display_name": "Python 3",
   "language": "python",
   "name": "python3"
  },
  "language_info": {
   "codemirror_mode": {
    "name": "ipython",
    "version": 3
   },
   "file_extension": ".py",
   "mimetype": "text/x-python",
   "name": "python",
   "nbconvert_exporter": "python",
   "pygments_lexer": "ipython3",
   "version": "3.11.1"
  }
 },
 "nbformat": 4,
 "nbformat_minor": 4
}
